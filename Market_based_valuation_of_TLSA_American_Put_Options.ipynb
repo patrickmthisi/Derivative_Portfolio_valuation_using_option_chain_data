{
 "cells": [
  {
   "cell_type": "markdown",
   "id": "a801ebaa",
   "metadata": {},
   "source": [
    "# Import the libraries:"
   ]
  },
  {
   "cell_type": "code",
   "execution_count": 1,
   "id": "9eef01d9",
   "metadata": {},
   "outputs": [],
   "source": [
    "# matplotlib configuration\n",
    "%config InlineBackend.figure_format = 'retina'\n",
    "\n",
    "import pandas as pd\n",
    "import numpy as np\n",
    "import matplotlib.pyplot as plt\n",
    "import seaborn as sns\n",
    "import dx\n",
    "import datetime\n",
    "import scipy.optimize as spo\n",
    "from market_valuation.market_val_utils import get_option_chain_and_price\n",
    "\n",
    "import warnings\n",
    "warnings.simplefilter(action='ignore', category=FutureWarning)\n",
    "\n",
    "sns.set_theme(context='notebook', \n",
    "              style='whitegrid',\n",
    "              palette='colorblind', \n",
    "              color_codes=True, \n",
    "              rc={'figure.figsize': [10, 6]})"
   ]
  },
  {
   "cell_type": "markdown",
   "id": "f9d1830d",
   "metadata": {},
   "source": [
    "# Load market data:"
   ]
  },
  {
   "cell_type": "code",
   "execution_count": 2,
   "id": "08bf2f1c",
   "metadata": {},
   "outputs": [
    {
     "name": "stdout",
     "output_type": "stream",
     "text": [
      "Option chain and current price for TSLA expiring on 2025-09-19:\n",
      "Current Price: 241.38\n",
      "Calls:\n",
      "          contractSymbol             lastTradeDate  strike  lastPrice     bid  \\\n",
      "0    TSLA250919C00005000 2025-04-15 14:36:50+00:00     5.0     251.03    0.00   \n",
      "1    TSLA250919C00010000 2024-12-20 16:19:51+00:00    10.0     431.30  384.05   \n",
      "2    TSLA250919C00015000 2025-03-28 19:20:07+00:00    15.0     248.79    0.00   \n",
      "3    TSLA250919C00020000 2025-03-26 19:51:14+00:00    20.0     251.47    0.00   \n",
      "4    TSLA250919C00025000 2025-03-27 13:54:18+00:00    25.0     254.18    0.00   \n",
      "..                   ...                       ...     ...        ...     ...   \n",
      "142  TSLA250919C00920000 2025-04-16 13:39:06+00:00   920.0       0.42    0.00   \n",
      "143  TSLA250919C00930000 2025-04-10 14:03:29+00:00   930.0       0.48    0.00   \n",
      "144  TSLA250919C00940000 2025-04-17 18:18:01+00:00   940.0       0.32    0.00   \n",
      "145  TSLA250919C00950000 2025-04-16 17:48:13+00:00   950.0       0.32    0.00   \n",
      "146  TSLA250919C00960000 2025-04-17 19:59:45+00:00   960.0       0.29    0.00   \n",
      "\n",
      "       ask  change  percentChange  volume  openInterest  impliedVolatility  \\\n",
      "0      0.0     0.0            0.0       2             0           0.000010   \n",
      "1    386.8     0.0            0.0       1            10           0.000000   \n",
      "2      0.0     0.0            0.0       2             0           0.000010   \n",
      "3      0.0     0.0            0.0       2             0           0.000010   \n",
      "4      0.0     0.0            0.0       4             0           0.000010   \n",
      "..     ...     ...            ...     ...           ...                ...   \n",
      "142    0.0     0.0            0.0       1             0           0.500005   \n",
      "143    0.0     0.0            0.0       2             0           0.500005   \n",
      "144    0.0     0.0            0.0       5             0           0.500005   \n",
      "145    0.0     0.0            0.0       1             0           0.500005   \n",
      "146    0.0     0.0            0.0    6320             0           0.500005   \n",
      "\n",
      "     inTheMoney contractSize currency  \n",
      "0          True      REGULAR      USD  \n",
      "1          True      REGULAR      USD  \n",
      "2          True      REGULAR      USD  \n",
      "3          True      REGULAR      USD  \n",
      "4          True      REGULAR      USD  \n",
      "..          ...          ...      ...  \n",
      "142       False      REGULAR      USD  \n",
      "143       False      REGULAR      USD  \n",
      "144       False      REGULAR      USD  \n",
      "145       False      REGULAR      USD  \n",
      "146       False      REGULAR      USD  \n",
      "\n",
      "[147 rows x 14 columns]\n",
      "\n",
      "Puts:\n",
      "          contractSymbol             lastTradeDate  strike  lastPrice     bid  \\\n",
      "0    TSLA250919P00005000 2025-04-17 18:24:40+00:00     5.0       0.02    0.00   \n",
      "1    TSLA250919P00010000 2025-04-17 19:17:45+00:00    10.0       0.03    0.00   \n",
      "2    TSLA250919P00015000 2025-04-17 15:45:25+00:00    15.0       0.07    0.00   \n",
      "3    TSLA250919P00020000 2025-04-16 18:01:36+00:00    20.0       0.17    0.00   \n",
      "4    TSLA250919P00025000 2025-04-16 19:47:13+00:00    25.0       0.22    0.00   \n",
      "..                   ...                       ...     ...        ...     ...   \n",
      "142  TSLA250919P00920000 2025-01-07 15:18:11+00:00   920.0     524.75    0.00   \n",
      "143  TSLA250919P00930000 2025-01-07 15:17:32+00:00   930.0     534.65    0.00   \n",
      "144  TSLA250919P00940000 2025-01-07 15:16:44+00:00   940.0     544.10    0.00   \n",
      "145  TSLA250919P00950000 2025-01-31 15:44:38+00:00   950.0     532.04  675.45   \n",
      "146  TSLA250919P00960000 2025-03-31 15:26:22+00:00   960.0     708.89    0.00   \n",
      "\n",
      "       ask  change  percentChange  volume  openInterest  impliedVolatility  \\\n",
      "0      0.0     0.0            0.0      10             0           0.500005   \n",
      "1      0.0     0.0            0.0    3123             0           0.500005   \n",
      "2      0.0     0.0            0.0     540             0           0.500005   \n",
      "3      0.0     0.0            0.0       1             0           0.500005   \n",
      "4      0.0     0.0            0.0      93             0           0.500005   \n",
      "..     ...     ...            ...     ...           ...                ...   \n",
      "142    0.0     0.0            0.0       7             0           0.000010   \n",
      "143    0.0     0.0            0.0       5             0           0.000010   \n",
      "144    0.0     0.0            0.0       2             0           0.000010   \n",
      "145  678.6     0.0            0.0       1             0           0.000010   \n",
      "146    0.0     0.0            0.0       1             0           0.000010   \n",
      "\n",
      "     inTheMoney contractSize currency  \n",
      "0         False      REGULAR      USD  \n",
      "1         False      REGULAR      USD  \n",
      "2         False      REGULAR      USD  \n",
      "3         False      REGULAR      USD  \n",
      "4         False      REGULAR      USD  \n",
      "..          ...          ...      ...  \n",
      "142        True      REGULAR      USD  \n",
      "143        True      REGULAR      USD  \n",
      "144        True      REGULAR      USD  \n",
      "145        True      REGULAR      USD  \n",
      "146        True      REGULAR      USD  \n",
      "\n",
      "[147 rows x 14 columns]\n"
     ]
    }
   ],
   "source": [
    "symbol = \"TSLA\"\n",
    "desired_expiry_date_dateObject = datetime.date(2025, 9, 19)\n",
    "option_data = get_option_chain_and_price(symbol, desired_expiry_date_dateObject)\n",
    "\n",
    "if option_data:\n",
    "    print(f\"Option chain and current price for {symbol} expiring on {desired_expiry_date_dateObject}:\")\n",
    "    print(f\"Current Price: {option_data['current_price']}\")\n",
    "    print(\"Calls:\")\n",
    "    print(option_data[\"calls\"])\n",
    "    print(\"\\nPuts:\")\n",
    "    print(option_data[\"puts\"])\n",
    "else:\n",
    "    print(f\"Could not retrieve option chain or price for {symbol} on {desired_expiry_date_dateObject}.\")"
   ]
  },
  {
   "cell_type": "markdown",
   "id": "c5f336b6",
   "metadata": {},
   "source": [
    "# Perform data wrangling:"
   ]
  },
  {
   "cell_type": "code",
   "execution_count": 3,
   "id": "10e6089d",
   "metadata": {},
   "outputs": [],
   "source": [
    "calls = option_data[\"calls\"]\n",
    "calls['EXPIR_DATE'] = datetime.date(2025, 9, 19)\n",
    "calls['lastTradeDate'] = pd.to_datetime(calls['lastTradeDate']).dt.strftime('%Y-%m-%d')\n",
    "initial_value = option_data['current_price']"
   ]
  },
  {
   "cell_type": "code",
   "execution_count": 4,
   "id": "24f9218f",
   "metadata": {},
   "outputs": [
    {
     "name": "stdout",
     "output_type": "stream",
     "text": [
      "<class 'pandas.core.frame.DataFrame'>\n",
      "RangeIndex: 147 entries, 0 to 146\n",
      "Data columns (total 6 columns):\n",
      " #   Column             Non-Null Count  Dtype         \n",
      "---  ------             --------------  -----         \n",
      " 0   contractSymbol     147 non-null    object        \n",
      " 1   lastTradeDate      147 non-null    datetime64[ns]\n",
      " 2   EXPIR_DATE         147 non-null    datetime64[ns]\n",
      " 3   strike             147 non-null    float64       \n",
      " 4   lastPrice          147 non-null    float64       \n",
      " 5   impliedVolatility  147 non-null    float64       \n",
      "dtypes: datetime64[ns](2), float64(3), object(1)\n",
      "memory usage: 7.0+ KB\n"
     ]
    }
   ],
   "source": [
    "for col in ['lastTradeDate', 'EXPIR_DATE']:\n",
    "    calls[col] = calls[col].apply(lambda date: pd.Timestamp(date))\n",
    "    \n",
    "cols = ['contractSymbol', 'lastTradeDate', 'EXPIR_DATE', 'strike', 'lastPrice', 'impliedVolatility']\n",
    "calls = calls[cols]\n",
    "    \n",
    "calls.info()"
   ]
  },
  {
   "cell_type": "markdown",
   "id": "a95b4af5",
   "metadata": {},
   "source": [
    "# Relevant Market Data"
   ]
  },
  {
   "cell_type": "code",
   "execution_count": 5,
   "id": "5a937614",
   "metadata": {},
   "outputs": [
    {
     "name": "stdout",
     "output_type": "stream",
     "text": [
      "<class 'pandas.core.frame.DataFrame'>\n",
      "Index: 30 entries, 33 to 62\n",
      "Data columns (total 6 columns):\n",
      " #   Column             Non-Null Count  Dtype         \n",
      "---  ------             --------------  -----         \n",
      " 0   contractSymbol     30 non-null     object        \n",
      " 1   lastTradeDate      30 non-null     datetime64[ns]\n",
      " 2   EXPIR_DATE         30 non-null     datetime64[ns]\n",
      " 3   strike             30 non-null     float64       \n",
      " 4   lastPrice          30 non-null     float64       \n",
      " 5   impliedVolatility  30 non-null     float64       \n",
      "dtypes: datetime64[ns](2), float64(3), object(1)\n",
      "memory usage: 1.6+ KB\n"
     ]
    }
   ],
   "source": [
    "limit = 75\n",
    "option_selection = calls[abs(calls['strike'] - initial_value) < limit].copy()\n",
    "option_selection.info()"
   ]
  },
  {
   "cell_type": "code",
   "execution_count": 6,
   "id": "b949a8ad",
   "metadata": {},
   "outputs": [
    {
     "data": {
      "image/png": "[encoded data removed]",
      "text/plain": [
       "<Figure size 1000x600 with 2 Axes>"
      ]
     },
     "metadata": {
      "image/png": {
       "height": 531,
       "width": 874
      }
     },
     "output_type": "display_data"
    }
   ],
   "source": [
    "option_selection.set_index('strike')[['lastPrice', 'impliedVolatility']].plot(\n",
    "    secondary_y='impliedVolatility', style=['bo', 'rv']\n",
    ");"
   ]
  },
  {
   "cell_type": "markdown",
   "id": "859222a0",
   "metadata": {},
   "source": [
    "# Option Modelling"
   ]
  },
  {
   "cell_type": "code",
   "execution_count": 7,
   "id": "683a762e",
   "metadata": {},
   "outputs": [],
   "source": [
    "pricing_date = option_selection['lastTradeDate'].max()\n",
    "me_tsla = dx.market_environment('TLSA', pricing_date)\n",
    "maturity = pd.Timestamp(calls.iloc[0]['EXPIR_DATE'])\n",
    "\n",
    "# add basic model parameters\n",
    "me_tsla.add_constant('initial_value', initial_value)\n",
    "me_tsla.add_constant('final_date', maturity)\n",
    "me_tsla.add_constant('currency', 'USD')"
   ]
  },
  {
   "cell_type": "code",
   "execution_count": 8,
   "id": "b871d511",
   "metadata": {},
   "outputs": [],
   "source": [
    "# add simulated related parameters\n",
    "me_tsla.add_constant('frequency', 'B')\n",
    "me_tsla.add_constant('paths', 25_000)"
   ]
  },
  {
   "cell_type": "code",
   "execution_count": 9,
   "id": "4601ba0e",
   "metadata": {},
   "outputs": [],
   "source": [
    "csr = dx.constant_short_rate('csr', 0.04239) # 6-month T-bill rate\n",
    "me_tsla.add_curve('discount_curve', csr)"
   ]
  },
  {
   "cell_type": "code",
   "execution_count": 10,
   "id": "7fba83b4",
   "metadata": {},
   "outputs": [],
   "source": [
    "# add model specific parameters for jump diffusion\n",
    "me_tsla.add_constant('volatility', 0.2)\n",
    "me_tsla.add_constant('lambda', 0.8)\n",
    "me_tsla.add_constant('mu', -0.2)\n",
    "me_tsla.add_constant('delta', 0.1)"
   ]
  },
  {
   "cell_type": "code",
   "execution_count": 11,
   "id": "5054e3b0",
   "metadata": {},
   "outputs": [],
   "source": [
    "tsla_model = dx.jump_diffusion('tsla_model', me_tsla)"
   ]
  },
  {
   "cell_type": "code",
   "execution_count": 12,
   "id": "da7e4f0e",
   "metadata": {},
   "outputs": [],
   "source": [
    "# get first approximation value\n",
    "me_tsla.add_constant('strike', initial_value)\n",
    "me_tsla.add_constant('maturity', maturity)"
   ]
  },
  {
   "cell_type": "code",
   "execution_count": 13,
   "id": "321067e1",
   "metadata": {},
   "outputs": [],
   "source": [
    "payoff_func = 'np.maximum(maturity_value - strike, 0)'"
   ]
  },
  {
   "cell_type": "code",
   "execution_count": 14,
   "id": "596ce11e",
   "metadata": {},
   "outputs": [],
   "source": [
    "# instantiate valuation object\n",
    "tsla_eur_call = dx.valuation_mcs_european('tsla_eur_call', tsla_model, me_tsla, payoff_func)"
   ]
  },
  {
   "cell_type": "code",
   "execution_count": 15,
   "id": "9d196a18",
   "metadata": {},
   "outputs": [
    {
     "name": "stdout",
     "output_type": "stream",
     "text": [
      "CPU times: user 137 ms, sys: 68.9 ms, total: 206 ms\n",
      "Wall time: 205 ms\n"
     ]
    },
    {
     "data": {
      "text/plain": [
       "18.774534"
      ]
     },
     "execution_count": 15,
     "metadata": {},
     "output_type": "execute_result"
    }
   ],
   "source": [
    "# initiates the simulation and value estimation\n",
    "%time tsla_eur_call.present_value()"
   ]
  },
  {
   "cell_type": "code",
   "execution_count": 16,
   "id": "d7b07977",
   "metadata": {},
   "outputs": [],
   "source": [
    "option_models = {}\n",
    "for option in option_selection.index:\n",
    "    strike = option_selection['strike'].loc[option]\n",
    "    me_tsla.add_constant('strike',strike)\n",
    "    option_models[strike] = dx.valuation_mcs_european('eur_call_%d' % strike, tsla_model, me_tsla, payoff_func)"
   ]
  },
  {
   "cell_type": "code",
   "execution_count": 17,
   "id": "6bb97eaa",
   "metadata": {},
   "outputs": [],
   "source": [
    "def calculate_model_values(p0):\n",
    "    volatility, lamb, mu, delta = p0\n",
    "    tsla_model.update(volatility=volatility, lamb=lamb, mu=mu, delta=delta)\n",
    "    return {strike: model.present_value(fixed_seed=True) for strike, model in option_models.items()}"
   ]
  },
  {
   "cell_type": "markdown",
   "id": "e80df926",
   "metadata": {},
   "source": [
    "# Calibration Procedure"
   ]
  },
  {
   "cell_type": "code",
   "execution_count": 18,
   "id": "a1abdb85",
   "metadata": {},
   "outputs": [],
   "source": [
    "i = 0\n",
    "def mean_squared_error(p0): \n",
    "    global i\n",
    "    model_values = np.array(list(calculate_model_values(p0).values()))\n",
    "    market_values = option_selection['lastPrice'].values\n",
    "    option_diffs = model_values - market_values\n",
    "    MSE = np.sum(option_diffs ** 2) / len(option_diffs)\n",
    "    if i % 75 == 0:\n",
    "        if i == 0:\n",
    "            print('%4s %6s %6s %6s %6s --> %6s' % ('i', 'vola', 'lambda', 'mu', 'delta', 'MSE'))\n",
    "        print('%4d %6.3f %6.3f %6.3f %6.3f --> %6.3f' % (i, p0[0], p0[1], p0[2], p0[3], MSE))\n",
    "    i += 1\n",
    "    return MSE"
   ]
  },
  {
   "cell_type": "code",
   "execution_count": 19,
   "id": "5d5799e3",
   "metadata": {},
   "outputs": [
    {
     "name": "stdout",
     "output_type": "stream",
     "text": [
      "   i   vola lambda     mu  delta -->    MSE\n",
      "   0  0.400  0.100 -0.400  0.000 --> 155.541\n",
      "  75  0.400  0.300 -0.400  0.100 --> 120.547\n",
      " 150  0.400  0.500 -0.300  0.060 --> 117.613\n",
      " 225  0.400  0.700 -0.200  0.020 --> 133.770\n",
      " 300  0.425  0.200 -0.200  0.120 --> 131.094\n",
      " 375  0.425  0.400 -0.100  0.080 --> 132.876\n",
      " 450  0.425  0.600  0.000  0.040 --> 140.510\n",
      " 525  0.450  0.200 -0.400  0.000 --> 87.971\n",
      " 600  0.450  0.400 -0.400  0.100 --> 60.193\n",
      " 675  0.450  0.600 -0.300  0.060 --> 65.473\n",
      " 750  0.475  0.100 -0.200  0.020 --> 83.808\n",
      " 825  0.475  0.300 -0.200  0.120 --> 73.097\n",
      " 900  0.475  0.500 -0.100  0.080 --> 77.901\n",
      " 975  0.475  0.700  0.000  0.040 --> 87.012\n",
      "1050  0.500  0.300 -0.400  0.000 --> 38.194\n",
      "1125  0.500  0.500 -0.400  0.100 --> 22.155\n",
      "1200  0.500  0.700 -0.300  0.060 --> 25.926\n",
      "1275  0.525  0.200 -0.200  0.020 --> 41.780\n",
      "1350  0.525  0.400 -0.200  0.120 --> 32.544\n",
      "1425  0.525  0.600 -0.100  0.080 --> 37.999\n",
      "1500  0.550  0.100  0.000  0.040 --> 30.461\n",
      "1575  0.550  0.400 -0.400  0.000 --> 10.291\n",
      "1650  0.550  0.600 -0.400  0.100 -->  4.990\n",
      "1725  0.575  0.100 -0.300  0.060 --> 14.996\n",
      "1800  0.575  0.300 -0.200  0.020 --> 14.425\n",
      "1875  0.575  0.500 -0.200  0.120 -->  9.763\n",
      "1950  0.575  0.700 -0.100  0.080 --> 13.611\n",
      "2025  0.600  0.200  0.000  0.040 --> 10.214\n",
      "2100  0.600  0.500 -0.400  0.000 -->  4.441\n",
      "2175  0.600  0.700 -0.400  0.100 -->  7.833\n",
      "CPU times: user 10min 27s, sys: 19.4 s, total: 10min 46s\n",
      "Wall time: 10min 48s\n"
     ]
    }
   ],
   "source": [
    "%%time\n",
    "i = 0\n",
    "opt_global = spo.brute(mean_squared_error, \n",
    "                       ((0.4, 0.601, 0.025), # range for volatility\n",
    "                        (0.1, 0.8, 0.1), # range of jump intensity\n",
    "                        (-0.4, 0.01, 0.1), # range of average jump size\n",
    "                        (0.00, 0.121, 0.02)), # range of jump volatility\n",
    "                       finish=None)"
   ]
  },
  {
   "cell_type": "code",
   "execution_count": 20,
   "id": "e3157154",
   "metadata": {},
   "outputs": [
    {
     "data": {
      "text/plain": [
       "3.1060989328014075"
      ]
     },
     "execution_count": 20,
     "metadata": {},
     "output_type": "execute_result"
    }
   ],
   "source": [
    "mean_squared_error(opt_global)"
   ]
  },
  {
   "cell_type": "code",
   "execution_count": 21,
   "id": "109b52d9",
   "metadata": {},
   "outputs": [
    {
     "name": "stdout",
     "output_type": "stream",
     "text": [
      "   i   vola lambda     mu  delta -->    MSE\n",
      "   0  0.550  0.700 -0.400  0.120 -->  3.106\n",
      "  75  0.550  0.700 -0.421  0.120 -->  2.850\n",
      " 150  0.550  0.700 -0.436  0.118 -->  2.786\n",
      " 225  0.548  0.700 -0.436  0.116 -->  2.753\n",
      " 300  0.539  0.700 -0.471  0.104 -->  2.586\n",
      " 375  0.477  0.700 -0.631  0.033 -->  2.040\n",
      "Optimization terminated successfully.\n",
      "         Current function value: 2.039954\n",
      "         Iterations: 219\n",
      "         Function evaluations: 422\n",
      "CPU times: user 2min, sys: 3.48 s, total: 2min 3s\n",
      "Wall time: 2min 3s\n"
     ]
    }
   ],
   "source": [
    "%%time\n",
    "i = 0\n",
    "opt_local = spo.fmin(mean_squared_error, opt_global, xtol=0.00001, ftol=0.00001, maxiter=750, maxfun=550)"
   ]
  },
  {
   "cell_type": "code",
   "execution_count": 22,
   "id": "d63bfa01",
   "metadata": {},
   "outputs": [
    {
     "name": "stdout",
     "output_type": "stream",
     "text": [
      "   i   vola lambda     mu  delta -->    MSE\n",
      "   0  0.477  0.700 -0.631  0.033 -->  2.040\n"
     ]
    },
    {
     "data": {
      "text/plain": [
       "2.039954286814669"
      ]
     },
     "execution_count": 22,
     "metadata": {},
     "output_type": "execute_result"
    }
   ],
   "source": [
    "i = 0\n",
    "mean_squared_error(opt_local)"
   ]
  },
  {
   "cell_type": "code",
   "execution_count": 23,
   "id": "6c5feb13",
   "metadata": {},
   "outputs": [],
   "source": [
    "option_selection['MODEL'] = np.array(list(calculate_model_values(opt_local).values()))\n",
    "option_selection['ERRORS_USD'] = (option_selection['MODEL'] - option_selection['lastPrice']) # absolute differences\n",
    "option_selection['ERRORS_%'] = (option_selection['ERRORS_USD'] / option_selection['lastPrice']) * 100 # deviation percent"
   ]
  },
  {
   "cell_type": "code",
   "execution_count": 24,
   "id": "3bd91fc4",
   "metadata": {},
   "outputs": [
    {
     "data": {
      "text/html": [
       "<div>\n",
       "<style scoped>\n",
       "    .dataframe tbody tr th:only-of-type {\n",
       "        vertical-align: middle;\n",
       "    }\n",
       "\n",
       "    .dataframe tbody tr th {\n",
       "        vertical-align: top;\n",
       "    }\n",
       "\n",
       "    .dataframe thead th {\n",
       "        text-align: right;\n",
       "    }\n",
       "</style>\n",
       "<table border=\"1\" class=\"dataframe\">\n",
       "  <thead>\n",
       "    <tr style=\"text-align: right;\">\n",
       "      <th></th>\n",
       "      <th>MODEL</th>\n",
       "      <th>lastPrice</th>\n",
       "      <th>ERRORS_USD</th>\n",
       "      <th>ERRORS_%</th>\n",
       "    </tr>\n",
       "  </thead>\n",
       "  <tbody>\n",
       "    <tr>\n",
       "      <th>33</th>\n",
       "      <td>85.989605</td>\n",
       "      <td>86.20</td>\n",
       "      <td>-0.210395</td>\n",
       "      <td>-0.244078</td>\n",
       "    </tr>\n",
       "    <tr>\n",
       "      <th>34</th>\n",
       "      <td>82.321446</td>\n",
       "      <td>82.25</td>\n",
       "      <td>0.071446</td>\n",
       "      <td>0.086864</td>\n",
       "    </tr>\n",
       "    <tr>\n",
       "      <th>35</th>\n",
       "      <td>78.736705</td>\n",
       "      <td>77.90</td>\n",
       "      <td>0.836705</td>\n",
       "      <td>1.074076</td>\n",
       "    </tr>\n",
       "    <tr>\n",
       "      <th>36</th>\n",
       "      <td>75.231850</td>\n",
       "      <td>74.10</td>\n",
       "      <td>1.131850</td>\n",
       "      <td>1.527463</td>\n",
       "    </tr>\n",
       "    <tr>\n",
       "      <th>37</th>\n",
       "      <td>71.813827</td>\n",
       "      <td>71.72</td>\n",
       "      <td>0.093827</td>\n",
       "      <td>0.130824</td>\n",
       "    </tr>\n",
       "    <tr>\n",
       "      <th>38</th>\n",
       "      <td>68.484004</td>\n",
       "      <td>75.65</td>\n",
       "      <td>-7.165996</td>\n",
       "      <td>-9.472566</td>\n",
       "    </tr>\n",
       "    <tr>\n",
       "      <th>39</th>\n",
       "      <td>65.252806</td>\n",
       "      <td>64.93</td>\n",
       "      <td>0.322806</td>\n",
       "      <td>0.497160</td>\n",
       "    </tr>\n",
       "    <tr>\n",
       "      <th>40</th>\n",
       "      <td>62.113800</td>\n",
       "      <td>60.45</td>\n",
       "      <td>1.663800</td>\n",
       "      <td>2.752357</td>\n",
       "    </tr>\n",
       "    <tr>\n",
       "      <th>41</th>\n",
       "      <td>59.068429</td>\n",
       "      <td>57.95</td>\n",
       "      <td>1.118429</td>\n",
       "      <td>1.929990</td>\n",
       "    </tr>\n",
       "    <tr>\n",
       "      <th>42</th>\n",
       "      <td>56.119741</td>\n",
       "      <td>55.75</td>\n",
       "      <td>0.369741</td>\n",
       "      <td>0.663213</td>\n",
       "    </tr>\n",
       "    <tr>\n",
       "      <th>43</th>\n",
       "      <td>53.270697</td>\n",
       "      <td>53.30</td>\n",
       "      <td>-0.029303</td>\n",
       "      <td>-0.054977</td>\n",
       "    </tr>\n",
       "    <tr>\n",
       "      <th>44</th>\n",
       "      <td>50.516991</td>\n",
       "      <td>50.31</td>\n",
       "      <td>0.206991</td>\n",
       "      <td>0.411431</td>\n",
       "    </tr>\n",
       "    <tr>\n",
       "      <th>45</th>\n",
       "      <td>47.860867</td>\n",
       "      <td>47.15</td>\n",
       "      <td>0.710867</td>\n",
       "      <td>1.507671</td>\n",
       "    </tr>\n",
       "    <tr>\n",
       "      <th>46</th>\n",
       "      <td>45.303193</td>\n",
       "      <td>44.33</td>\n",
       "      <td>0.973193</td>\n",
       "      <td>2.195337</td>\n",
       "    </tr>\n",
       "    <tr>\n",
       "      <th>47</th>\n",
       "      <td>42.849221</td>\n",
       "      <td>42.40</td>\n",
       "      <td>0.449221</td>\n",
       "      <td>1.059483</td>\n",
       "    </tr>\n",
       "    <tr>\n",
       "      <th>48</th>\n",
       "      <td>40.496647</td>\n",
       "      <td>40.70</td>\n",
       "      <td>-0.203353</td>\n",
       "      <td>-0.499639</td>\n",
       "    </tr>\n",
       "    <tr>\n",
       "      <th>49</th>\n",
       "      <td>38.237879</td>\n",
       "      <td>38.40</td>\n",
       "      <td>-0.162121</td>\n",
       "      <td>-0.422190</td>\n",
       "    </tr>\n",
       "    <tr>\n",
       "      <th>50</th>\n",
       "      <td>36.077825</td>\n",
       "      <td>35.69</td>\n",
       "      <td>0.387825</td>\n",
       "      <td>1.086649</td>\n",
       "    </tr>\n",
       "    <tr>\n",
       "      <th>51</th>\n",
       "      <td>34.012428</td>\n",
       "      <td>33.66</td>\n",
       "      <td>0.352428</td>\n",
       "      <td>1.047023</td>\n",
       "    </tr>\n",
       "    <tr>\n",
       "      <th>52</th>\n",
       "      <td>32.040943</td>\n",
       "      <td>31.70</td>\n",
       "      <td>0.340943</td>\n",
       "      <td>1.075530</td>\n",
       "    </tr>\n",
       "    <tr>\n",
       "      <th>53</th>\n",
       "      <td>30.162530</td>\n",
       "      <td>29.70</td>\n",
       "      <td>0.462530</td>\n",
       "      <td>1.557340</td>\n",
       "    </tr>\n",
       "    <tr>\n",
       "      <th>54</th>\n",
       "      <td>28.361827</td>\n",
       "      <td>28.25</td>\n",
       "      <td>0.111827</td>\n",
       "      <td>0.395848</td>\n",
       "    </tr>\n",
       "    <tr>\n",
       "      <th>55</th>\n",
       "      <td>26.652261</td>\n",
       "      <td>27.00</td>\n",
       "      <td>-0.347739</td>\n",
       "      <td>-1.287922</td>\n",
       "    </tr>\n",
       "    <tr>\n",
       "      <th>56</th>\n",
       "      <td>25.029513</td>\n",
       "      <td>25.32</td>\n",
       "      <td>-0.290487</td>\n",
       "      <td>-1.147263</td>\n",
       "    </tr>\n",
       "    <tr>\n",
       "      <th>57</th>\n",
       "      <td>23.496313</td>\n",
       "      <td>23.42</td>\n",
       "      <td>0.076313</td>\n",
       "      <td>0.325845</td>\n",
       "    </tr>\n",
       "    <tr>\n",
       "      <th>58</th>\n",
       "      <td>22.047707</td>\n",
       "      <td>22.45</td>\n",
       "      <td>-0.402293</td>\n",
       "      <td>-1.791951</td>\n",
       "    </tr>\n",
       "    <tr>\n",
       "      <th>59</th>\n",
       "      <td>20.674128</td>\n",
       "      <td>21.15</td>\n",
       "      <td>-0.475872</td>\n",
       "      <td>-2.249986</td>\n",
       "    </tr>\n",
       "    <tr>\n",
       "      <th>60</th>\n",
       "      <td>19.373485</td>\n",
       "      <td>19.25</td>\n",
       "      <td>0.123485</td>\n",
       "      <td>0.641481</td>\n",
       "    </tr>\n",
       "    <tr>\n",
       "      <th>61</th>\n",
       "      <td>18.149288</td>\n",
       "      <td>18.69</td>\n",
       "      <td>-0.540712</td>\n",
       "      <td>-2.893055</td>\n",
       "    </tr>\n",
       "    <tr>\n",
       "      <th>62</th>\n",
       "      <td>16.992202</td>\n",
       "      <td>17.50</td>\n",
       "      <td>-0.507798</td>\n",
       "      <td>-2.901703</td>\n",
       "    </tr>\n",
       "  </tbody>\n",
       "</table>\n",
       "</div>"
      ],
      "text/plain": [
       "        MODEL  lastPrice  ERRORS_USD  ERRORS_%\n",
       "33  85.989605      86.20   -0.210395 -0.244078\n",
       "34  82.321446      82.25    0.071446  0.086864\n",
       "35  78.736705      77.90    0.836705  1.074076\n",
       "36  75.231850      74.10    1.131850  1.527463\n",
       "37  71.813827      71.72    0.093827  0.130824\n",
       "38  68.484004      75.65   -7.165996 -9.472566\n",
       "39  65.252806      64.93    0.322806  0.497160\n",
       "40  62.113800      60.45    1.663800  2.752357\n",
       "41  59.068429      57.95    1.118429  1.929990\n",
       "42  56.119741      55.75    0.369741  0.663213\n",
       "43  53.270697      53.30   -0.029303 -0.054977\n",
       "44  50.516991      50.31    0.206991  0.411431\n",
       "45  47.860867      47.15    0.710867  1.507671\n",
       "46  45.303193      44.33    0.973193  2.195337\n",
       "47  42.849221      42.40    0.449221  1.059483\n",
       "48  40.496647      40.70   -0.203353 -0.499639\n",
       "49  38.237879      38.40   -0.162121 -0.422190\n",
       "50  36.077825      35.69    0.387825  1.086649\n",
       "51  34.012428      33.66    0.352428  1.047023\n",
       "52  32.040943      31.70    0.340943  1.075530\n",
       "53  30.162530      29.70    0.462530  1.557340\n",
       "54  28.361827      28.25    0.111827  0.395848\n",
       "55  26.652261      27.00   -0.347739 -1.287922\n",
       "56  25.029513      25.32   -0.290487 -1.147263\n",
       "57  23.496313      23.42    0.076313  0.325845\n",
       "58  22.047707      22.45   -0.402293 -1.791951\n",
       "59  20.674128      21.15   -0.475872 -2.249986\n",
       "60  19.373485      19.25    0.123485  0.641481\n",
       "61  18.149288      18.69   -0.540712 -2.893055\n",
       "62  16.992202      17.50   -0.507798 -2.901703"
      ]
     },
     "execution_count": 24,
     "metadata": {},
     "output_type": "execute_result"
    }
   ],
   "source": [
    "option_selection[['MODEL', 'lastPrice', 'ERRORS_USD', 'ERRORS_%']]"
   ]
  },
  {
   "cell_type": "code",
   "execution_count": 25,
   "id": "5c177190",
   "metadata": {},
   "outputs": [
    {
     "data": {
      "text/plain": [
       "-0.018"
      ]
     },
     "execution_count": 25,
     "metadata": {},
     "output_type": "execute_result"
    }
   ],
   "source": [
    "# average pricing error in USD\n",
    "round(option_selection['ERRORS_USD'].mean(), 3)"
   ]
  },
  {
   "cell_type": "code",
   "execution_count": 26,
   "id": "0f9114fd",
   "metadata": {},
   "outputs": [
    {
     "data": {
      "text/plain": [
       "-0.1"
      ]
     },
     "execution_count": 26,
     "metadata": {},
     "output_type": "execute_result"
    }
   ],
   "source": [
    "# average pricing error in percent\n",
    "round(option_selection['ERRORS_%'].mean(), 3)"
   ]
  },
  {
   "cell_type": "code",
   "execution_count": 27,
   "id": "af851e6a",
   "metadata": {},
   "outputs": [
    {
     "data": {
      "image/png": "[encoded data removed]",
      "text/plain": [
       "<Figure size 1000x1000 with 3 Axes>"
      ]
     },
     "metadata": {
      "image/png": {
       "height": 839,
       "width": 865
      }
     },
     "output_type": "display_data"
    }
   ],
   "source": [
    "fig, (ax1, ax2, ax3) = plt.subplots(3, sharex=True, figsize=(10, 10))\n",
    "strikes = option_selection['strike'].values\n",
    "ax1.plot(strikes, option_selection['lastPrice'], label='market quotes')\n",
    "ax1.plot(strikes, option_selection['MODEL'], 'ro', label='model values')\n",
    "ax1.set_ylabel('option values')\n",
    "ax1.legend(loc=0)\n",
    "wi = 2\n",
    "ax2.bar(strikes - wi / 2., option_selection['ERRORS_USD'], width=wi)\n",
    "ax2.set_ylabel('errors [USD]')\n",
    "ax3.bar(strikes - wi / 2., option_selection['ERRORS_%'], width=wi)\n",
    "ax3.set_ylabel('errors [%]')\n",
    "ax3.set_xlabel('strikes');"
   ]
  },
  {
   "cell_type": "markdown",
   "id": "dfc6b7f0",
   "metadata": {},
   "source": [
    "# Portfolio Valuation\n",
    "## Modelling Option Positions"
   ]
  },
  {
   "cell_type": "code",
   "execution_count": 28,
   "id": "2bba560b",
   "metadata": {},
   "outputs": [],
   "source": [
    "me_tsla = dx.market_environment('me_tsla', pricing_date)\n",
    "me_tsla.add_constant('initial_value', initial_value)\n",
    "me_tsla.add_constant('final_date', pricing_date)\n",
    "me_tsla.add_constant('currency', 'USD')"
   ]
  },
  {
   "cell_type": "code",
   "execution_count": 29,
   "id": "d31bb9c6",
   "metadata": {},
   "outputs": [],
   "source": [
    "# adds the optimal parameters from the calibration\n",
    "me_tsla.add_constant('volatility', opt_local[0])\n",
    "me_tsla.add_constant('lambda', opt_local[1])\n",
    "me_tsla.add_constant('mu', opt_local[2])\n",
    "me_tsla.add_constant('delta', opt_local[3])"
   ]
  },
  {
   "cell_type": "code",
   "execution_count": 30,
   "id": "c73ec153",
   "metadata": {},
   "outputs": [],
   "source": [
    "me_tsla.add_constant('model', 'jd')"
   ]
  },
  {
   "cell_type": "code",
   "execution_count": 31,
   "id": "8bef693e",
   "metadata": {},
   "outputs": [],
   "source": [
    "payoff_func = 'np.maximum(strike - instrument_values, 0)'"
   ]
  },
  {
   "cell_type": "code",
   "execution_count": 32,
   "id": "e8ed7afb",
   "metadata": {},
   "outputs": [],
   "source": [
    "shared = dx.market_environment('share', pricing_date)\n",
    "shared.add_constant('maturity', maturity)\n",
    "shared.add_constant('currency', 'USD')"
   ]
  },
  {
   "cell_type": "code",
   "execution_count": 33,
   "id": "eebd9384",
   "metadata": {},
   "outputs": [],
   "source": [
    "option_positions = {}\n",
    "option_environments = {}\n",
    "for option in option_selection.index:\n",
    "    option_environments[option] = dx.market_environment('am_put_%d' % option, pricing_date)\n",
    "    strike = option_selection['strike'].loc[option]\n",
    "    option_environments[option].add_constant('strike', strike)\n",
    "    option_environments[option].add_environment(shared)\n",
    "    option_positions['am_put_%d' % strike] = dx.derivatives_position('am_put_%d' % strike, \n",
    "                                                                     quantity=np.random.randint(10, 50), \n",
    "                                                                     underlying='tsla_model', \n",
    "                                                                     mar_env=option_environments[option], \n",
    "                                                                     otype='American', \n",
    "                                                                     payoff_func=payoff_func)"
   ]
  },
  {
   "cell_type": "markdown",
   "id": "86b5b907",
   "metadata": {},
   "source": [
    "## Options Portfolio"
   ]
  },
  {
   "cell_type": "code",
   "execution_count": 34,
   "id": "277a3b8d",
   "metadata": {},
   "outputs": [],
   "source": [
    "val_env = dx.market_environment('val_env', pricing_date)\n",
    "val_env.add_constant('starting_date', pricing_date)\n",
    "val_env.add_constant('final_date', pricing_date)\n",
    "val_env.add_curve('discount_curve', csr)\n",
    "val_env.add_constant('frequency', 'B')\n",
    "val_env.add_constant('paths', 25_000)"
   ]
  },
  {
   "cell_type": "code",
   "execution_count": 35,
   "id": "a9cd1b74",
   "metadata": {},
   "outputs": [],
   "source": [
    "underlyings = {'tsla_model': me_tsla}"
   ]
  },
  {
   "cell_type": "code",
   "execution_count": 36,
   "id": "c97b8de4",
   "metadata": {},
   "outputs": [],
   "source": [
    "portfolio = dx.derivatives_portfolio('portfolio', option_positions, val_env, underlyings)"
   ]
  },
  {
   "cell_type": "code",
   "execution_count": 37,
   "id": "0c68cd43",
   "metadata": {},
   "outputs": [
    {
     "name": "stdout",
     "output_type": "stream",
     "text": [
      "CPU times: user 1min 22s, sys: 52.3 s, total: 2min 14s\n",
      "Wall time: 1min 11s\n"
     ]
    }
   ],
   "source": [
    "%time results = portfolio.get_statistics(fixed_seed=True)"
   ]
  },
  {
   "cell_type": "code",
   "execution_count": 38,
   "id": "909ac8bb",
   "metadata": {},
   "outputs": [
    {
     "data": {
      "text/html": [
       "<div>\n",
       "<style scoped>\n",
       "    .dataframe tbody tr th:only-of-type {\n",
       "        vertical-align: middle;\n",
       "    }\n",
       "\n",
       "    .dataframe tbody tr th {\n",
       "        vertical-align: top;\n",
       "    }\n",
       "\n",
       "    .dataframe thead th {\n",
       "        text-align: right;\n",
       "    }\n",
       "</style>\n",
       "<table border=\"1\" class=\"dataframe\">\n",
       "  <thead>\n",
       "    <tr style=\"text-align: right;\">\n",
       "      <th></th>\n",
       "      <th>name</th>\n",
       "      <th>quant</th>\n",
       "      <th>value</th>\n",
       "      <th>curr</th>\n",
       "      <th>pos_value</th>\n",
       "      <th>pos_delta</th>\n",
       "      <th>pos_vega</th>\n",
       "    </tr>\n",
       "  </thead>\n",
       "  <tbody>\n",
       "    <tr>\n",
       "      <th>0</th>\n",
       "      <td>am_put_170</td>\n",
       "      <td>21</td>\n",
       "      <td>9.8</td>\n",
       "      <td>USD</td>\n",
       "      <td>205.6</td>\n",
       "      <td>-2.4</td>\n",
       "      <td>439.2</td>\n",
       "    </tr>\n",
       "    <tr>\n",
       "      <th>1</th>\n",
       "      <td>am_put_175</td>\n",
       "      <td>17</td>\n",
       "      <td>11.0</td>\n",
       "      <td>USD</td>\n",
       "      <td>187.0</td>\n",
       "      <td>-2.3</td>\n",
       "      <td>412.0</td>\n",
       "    </tr>\n",
       "    <tr>\n",
       "      <th>2</th>\n",
       "      <td>am_put_180</td>\n",
       "      <td>26</td>\n",
       "      <td>12.3</td>\n",
       "      <td>USD</td>\n",
       "      <td>319.5</td>\n",
       "      <td>-3.8</td>\n",
       "      <td>485.5</td>\n",
       "    </tr>\n",
       "    <tr>\n",
       "      <th>3</th>\n",
       "      <td>am_put_185</td>\n",
       "      <td>23</td>\n",
       "      <td>13.6</td>\n",
       "      <td>USD</td>\n",
       "      <td>313.0</td>\n",
       "      <td>-3.4</td>\n",
       "      <td>492.0</td>\n",
       "    </tr>\n",
       "    <tr>\n",
       "      <th>4</th>\n",
       "      <td>am_put_190</td>\n",
       "      <td>39</td>\n",
       "      <td>15.0</td>\n",
       "      <td>USD</td>\n",
       "      <td>584.5</td>\n",
       "      <td>-6.3</td>\n",
       "      <td>1228.5</td>\n",
       "    </tr>\n",
       "    <tr>\n",
       "      <th>5</th>\n",
       "      <td>am_put_195</td>\n",
       "      <td>40</td>\n",
       "      <td>16.5</td>\n",
       "      <td>USD</td>\n",
       "      <td>660.5</td>\n",
       "      <td>-7.3</td>\n",
       "      <td>1144.5</td>\n",
       "    </tr>\n",
       "    <tr>\n",
       "      <th>6</th>\n",
       "      <td>am_put_200</td>\n",
       "      <td>39</td>\n",
       "      <td>18.2</td>\n",
       "      <td>USD</td>\n",
       "      <td>708.5</td>\n",
       "      <td>-7.9</td>\n",
       "      <td>1226.8</td>\n",
       "    </tr>\n",
       "    <tr>\n",
       "      <th>7</th>\n",
       "      <td>am_put_205</td>\n",
       "      <td>13</td>\n",
       "      <td>20.0</td>\n",
       "      <td>USD</td>\n",
       "      <td>259.9</td>\n",
       "      <td>-3.0</td>\n",
       "      <td>474.2</td>\n",
       "    </tr>\n",
       "    <tr>\n",
       "      <th>8</th>\n",
       "      <td>am_put_210</td>\n",
       "      <td>19</td>\n",
       "      <td>21.9</td>\n",
       "      <td>USD</td>\n",
       "      <td>415.8</td>\n",
       "      <td>-4.7</td>\n",
       "      <td>630.0</td>\n",
       "    </tr>\n",
       "    <tr>\n",
       "      <th>9</th>\n",
       "      <td>am_put_215</td>\n",
       "      <td>19</td>\n",
       "      <td>23.9</td>\n",
       "      <td>USD</td>\n",
       "      <td>453.5</td>\n",
       "      <td>-5.0</td>\n",
       "      <td>727.8</td>\n",
       "    </tr>\n",
       "    <tr>\n",
       "      <th>10</th>\n",
       "      <td>am_put_220</td>\n",
       "      <td>24</td>\n",
       "      <td>25.9</td>\n",
       "      <td>USD</td>\n",
       "      <td>622.1</td>\n",
       "      <td>-6.5</td>\n",
       "      <td>939.5</td>\n",
       "    </tr>\n",
       "    <tr>\n",
       "      <th>11</th>\n",
       "      <td>am_put_225</td>\n",
       "      <td>24</td>\n",
       "      <td>28.1</td>\n",
       "      <td>USD</td>\n",
       "      <td>675.0</td>\n",
       "      <td>-7.2</td>\n",
       "      <td>1082.9</td>\n",
       "    </tr>\n",
       "    <tr>\n",
       "      <th>12</th>\n",
       "      <td>am_put_230</td>\n",
       "      <td>11</td>\n",
       "      <td>30.5</td>\n",
       "      <td>USD</td>\n",
       "      <td>335.1</td>\n",
       "      <td>-3.4</td>\n",
       "      <td>492.3</td>\n",
       "    </tr>\n",
       "    <tr>\n",
       "      <th>13</th>\n",
       "      <td>am_put_235</td>\n",
       "      <td>24</td>\n",
       "      <td>32.9</td>\n",
       "      <td>USD</td>\n",
       "      <td>790.6</td>\n",
       "      <td>-8.2</td>\n",
       "      <td>984.0</td>\n",
       "    </tr>\n",
       "    <tr>\n",
       "      <th>14</th>\n",
       "      <td>am_put_240</td>\n",
       "      <td>20</td>\n",
       "      <td>35.6</td>\n",
       "      <td>USD</td>\n",
       "      <td>711.6</td>\n",
       "      <td>-7.5</td>\n",
       "      <td>919.2</td>\n",
       "    </tr>\n",
       "    <tr>\n",
       "      <th>15</th>\n",
       "      <td>am_put_245</td>\n",
       "      <td>42</td>\n",
       "      <td>38.2</td>\n",
       "      <td>USD</td>\n",
       "      <td>1604.4</td>\n",
       "      <td>-15.8</td>\n",
       "      <td>1942.2</td>\n",
       "    </tr>\n",
       "    <tr>\n",
       "      <th>16</th>\n",
       "      <td>am_put_250</td>\n",
       "      <td>41</td>\n",
       "      <td>40.9</td>\n",
       "      <td>USD</td>\n",
       "      <td>1676.1</td>\n",
       "      <td>-15.7</td>\n",
       "      <td>1997.0</td>\n",
       "    </tr>\n",
       "    <tr>\n",
       "      <th>17</th>\n",
       "      <td>am_put_255</td>\n",
       "      <td>41</td>\n",
       "      <td>43.9</td>\n",
       "      <td>USD</td>\n",
       "      <td>1798.1</td>\n",
       "      <td>-18.3</td>\n",
       "      <td>2041.6</td>\n",
       "    </tr>\n",
       "    <tr>\n",
       "      <th>18</th>\n",
       "      <td>am_put_260</td>\n",
       "      <td>15</td>\n",
       "      <td>46.7</td>\n",
       "      <td>USD</td>\n",
       "      <td>700.8</td>\n",
       "      <td>-6.4</td>\n",
       "      <td>747.1</td>\n",
       "    </tr>\n",
       "    <tr>\n",
       "      <th>19</th>\n",
       "      <td>am_put_265</td>\n",
       "      <td>10</td>\n",
       "      <td>49.8</td>\n",
       "      <td>USD</td>\n",
       "      <td>497.7</td>\n",
       "      <td>-4.6</td>\n",
       "      <td>526.2</td>\n",
       "    </tr>\n",
       "    <tr>\n",
       "      <th>20</th>\n",
       "      <td>am_put_270</td>\n",
       "      <td>27</td>\n",
       "      <td>53.0</td>\n",
       "      <td>USD</td>\n",
       "      <td>1430.4</td>\n",
       "      <td>-13.5</td>\n",
       "      <td>1364.3</td>\n",
       "    </tr>\n",
       "    <tr>\n",
       "      <th>21</th>\n",
       "      <td>am_put_275</td>\n",
       "      <td>24</td>\n",
       "      <td>56.3</td>\n",
       "      <td>USD</td>\n",
       "      <td>1350.6</td>\n",
       "      <td>-12.5</td>\n",
       "      <td>1311.4</td>\n",
       "    </tr>\n",
       "    <tr>\n",
       "      <th>22</th>\n",
       "      <td>am_put_280</td>\n",
       "      <td>41</td>\n",
       "      <td>59.6</td>\n",
       "      <td>USD</td>\n",
       "      <td>2444.0</td>\n",
       "      <td>-21.5</td>\n",
       "      <td>2064.0</td>\n",
       "    </tr>\n",
       "    <tr>\n",
       "      <th>23</th>\n",
       "      <td>am_put_285</td>\n",
       "      <td>47</td>\n",
       "      <td>63.0</td>\n",
       "      <td>USD</td>\n",
       "      <td>2961.4</td>\n",
       "      <td>-25.4</td>\n",
       "      <td>2719.1</td>\n",
       "    </tr>\n",
       "    <tr>\n",
       "      <th>24</th>\n",
       "      <td>am_put_290</td>\n",
       "      <td>12</td>\n",
       "      <td>66.6</td>\n",
       "      <td>USD</td>\n",
       "      <td>798.9</td>\n",
       "      <td>-6.8</td>\n",
       "      <td>554.9</td>\n",
       "    </tr>\n",
       "    <tr>\n",
       "      <th>25</th>\n",
       "      <td>am_put_295</td>\n",
       "      <td>20</td>\n",
       "      <td>70.1</td>\n",
       "      <td>USD</td>\n",
       "      <td>1401.3</td>\n",
       "      <td>-11.5</td>\n",
       "      <td>957.6</td>\n",
       "    </tr>\n",
       "    <tr>\n",
       "      <th>26</th>\n",
       "      <td>am_put_300</td>\n",
       "      <td>46</td>\n",
       "      <td>73.6</td>\n",
       "      <td>USD</td>\n",
       "      <td>3387.3</td>\n",
       "      <td>-26.8</td>\n",
       "      <td>2625.9</td>\n",
       "    </tr>\n",
       "    <tr>\n",
       "      <th>27</th>\n",
       "      <td>am_put_305</td>\n",
       "      <td>42</td>\n",
       "      <td>77.3</td>\n",
       "      <td>USD</td>\n",
       "      <td>3248.1</td>\n",
       "      <td>-25.3</td>\n",
       "      <td>2016.5</td>\n",
       "    </tr>\n",
       "    <tr>\n",
       "      <th>28</th>\n",
       "      <td>am_put_310</td>\n",
       "      <td>19</td>\n",
       "      <td>81.2</td>\n",
       "      <td>USD</td>\n",
       "      <td>1542.8</td>\n",
       "      <td>-12.5</td>\n",
       "      <td>993.1</td>\n",
       "    </tr>\n",
       "    <tr>\n",
       "      <th>29</th>\n",
       "      <td>am_put_315</td>\n",
       "      <td>30</td>\n",
       "      <td>85.1</td>\n",
       "      <td>USD</td>\n",
       "      <td>2552.5</td>\n",
       "      <td>-19.8</td>\n",
       "      <td>1624.7</td>\n",
       "    </tr>\n",
       "  </tbody>\n",
       "</table>\n",
       "</div>"
      ],
      "text/plain": [
       "          name  quant  value curr  pos_value  pos_delta  pos_vega\n",
       "0   am_put_170     21    9.8  USD      205.6       -2.4     439.2\n",
       "1   am_put_175     17   11.0  USD      187.0       -2.3     412.0\n",
       "2   am_put_180     26   12.3  USD      319.5       -3.8     485.5\n",
       "3   am_put_185     23   13.6  USD      313.0       -3.4     492.0\n",
       "4   am_put_190     39   15.0  USD      584.5       -6.3    1228.5\n",
       "5   am_put_195     40   16.5  USD      660.5       -7.3    1144.5\n",
       "6   am_put_200     39   18.2  USD      708.5       -7.9    1226.8\n",
       "7   am_put_205     13   20.0  USD      259.9       -3.0     474.2\n",
       "8   am_put_210     19   21.9  USD      415.8       -4.7     630.0\n",
       "9   am_put_215     19   23.9  USD      453.5       -5.0     727.8\n",
       "10  am_put_220     24   25.9  USD      622.1       -6.5     939.5\n",
       "11  am_put_225     24   28.1  USD      675.0       -7.2    1082.9\n",
       "12  am_put_230     11   30.5  USD      335.1       -3.4     492.3\n",
       "13  am_put_235     24   32.9  USD      790.6       -8.2     984.0\n",
       "14  am_put_240     20   35.6  USD      711.6       -7.5     919.2\n",
       "15  am_put_245     42   38.2  USD     1604.4      -15.8    1942.2\n",
       "16  am_put_250     41   40.9  USD     1676.1      -15.7    1997.0\n",
       "17  am_put_255     41   43.9  USD     1798.1      -18.3    2041.6\n",
       "18  am_put_260     15   46.7  USD      700.8       -6.4     747.1\n",
       "19  am_put_265     10   49.8  USD      497.7       -4.6     526.2\n",
       "20  am_put_270     27   53.0  USD     1430.4      -13.5    1364.3\n",
       "21  am_put_275     24   56.3  USD     1350.6      -12.5    1311.4\n",
       "22  am_put_280     41   59.6  USD     2444.0      -21.5    2064.0\n",
       "23  am_put_285     47   63.0  USD     2961.4      -25.4    2719.1\n",
       "24  am_put_290     12   66.6  USD      798.9       -6.8     554.9\n",
       "25  am_put_295     20   70.1  USD     1401.3      -11.5     957.6\n",
       "26  am_put_300     46   73.6  USD     3387.3      -26.8    2625.9\n",
       "27  am_put_305     42   77.3  USD     3248.1      -25.3    2016.5\n",
       "28  am_put_310     19   81.2  USD     1542.8      -12.5     993.1\n",
       "29  am_put_315     30   85.1  USD     2552.5      -19.8    1624.7"
      ]
     },
     "execution_count": 38,
     "metadata": {},
     "output_type": "execute_result"
    }
   ],
   "source": [
    "results.round(1)"
   ]
  },
  {
   "cell_type": "code",
   "execution_count": 39,
   "id": "328a960e",
   "metadata": {},
   "outputs": [
    {
     "data": {
      "text/plain": [
       "pos_value    34636.6\n",
       "pos_delta     -315.5\n",
       "pos_vega     35164.1\n",
       "dtype: float64"
      ]
     },
     "execution_count": 39,
     "metadata": {},
     "output_type": "execute_result"
    }
   ],
   "source": [
    "results[['pos_value', 'pos_delta', 'pos_vega']].sum().round(1)"
   ]
  },
  {
   "cell_type": "code",
   "execution_count": null,
   "id": "f70333af",
   "metadata": {},
   "outputs": [],
   "source": []
  }
 ],
 "metadata": {
  "kernelspec": {
   "display_name": "Python 3 (ipykernel)",
   "language": "python",
   "name": "python3"
  },
  "language_info": {
   "codemirror_mode": {
    "name": "ipython",
    "version": 3
   },
   "file_extension": ".py",
   "mimetype": "text/x-python",
   "name": "python",
   "nbconvert_exporter": "python",
   "pygments_lexer": "ipython3",
   "version": "3.10.6"
  }
 },
 "nbformat": 4,
 "nbformat_minor": 5
}
